{
 "cells": [
  {
   "cell_type": "code",
   "execution_count": 20,
   "id": "7e28072f-f7a8-4dc0-a33a-202110fb8ccb",
   "metadata": {
    "tags": []
   },
   "outputs": [
    {
     "name": "stdout",
     "output_type": "stream",
     "text": [
      "당신의 조선시대 이름은 {chosun_name} 입니다.\n"
     ]
    }
   ],
   "source": [
    "def get_my_chosun_name(family_name, month, day):\n",
    "    # 태어난 달 리스트 생성\n",
    "    first_name_list = ['쌍', '쇠', '복', '돌', '팽', '육', '쌍', '개', '칠', '갑', '삼', '방']\n",
    "    \n",
    "    # 태어난 날짜 리스트 생성\n",
    "    second_name_list = ['봉', '구', '욕', '포', '똥', '삼', '식', '석', '놈', '님', '년', '돌', '단', '득', '방', '질', '장', '걸', '래', '룡', '동', '순', '자', '박', '창', '언', '것', '포', '만', '단', '국']\n",
    "    \n",
    "    # 태어난 달과 날짜 글자 구하기\n",
    "    first_name = first_name_list[month - 1]\n",
    "    second_name = second_name_list[day - 1]\n",
    "    \n",
    "    # 조선시대 이름 조합\n",
    "    chosun_name = family_name + first_name + second_name\n",
    "    \n",
    "    return f\"당신의 조선시대 이름은 {chosun_name} 입니다.\"\n"
   ]
  },
  {
   "cell_type": "code",
   "execution_count": null,
   "id": "34c8e987-81d2-4983-8ef6-4c8cb8f84e49",
   "metadata": {},
   "outputs": [],
   "source": [
    "# 조선시대 이름 출력\n",
    "print(get_my_chosun_name('유', 11, 12))"
   ]
  }
 ],
 "metadata": {
  "kernelspec": {
   "display_name": "Python 3 (ipykernel)",
   "language": "python",
   "name": "python3"
  },
  "language_info": {
   "codemirror_mode": {
    "name": "ipython",
    "version": 3
   },
   "file_extension": ".py",
   "mimetype": "text/x-python",
   "name": "python",
   "nbconvert_exporter": "python",
   "pygments_lexer": "ipython3",
   "version": "3.11.4"
  }
 },
 "nbformat": 4,
 "nbformat_minor": 5
}
