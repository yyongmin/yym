{
 "cells": [
  {
   "cell_type": "code",
   "execution_count": 1,
   "id": "a83fce71-a043-4ae8-bc04-97d083e1646f",
   "metadata": {},
   "outputs": [],
   "source": [
    "# 1:Lovely Loveseat 추가\n",
    "lovely_loveseat_description = \"Lovely Loveseat. Tufted polyester blend on wood. 32 inches high x 40 inches wide x 30 inches deep. Red or white.\"\n",
    "\n",
    "# 2:Lovely Loveseat 가격\n",
    "lovely_loveseat_price = 254.00"
   ]
  },
  {
   "cell_type": "code",
   "execution_count": 2,
   "id": "1045f8e8-168e-4b89-9fd6-fe0617f0f69d",
   "metadata": {},
   "outputs": [],
   "source": [
    "# 3:Stylish Settee 추가 \n",
    "stylish_settee_description = \"Stylish Settee. Faux leather on birch. 29.50 inches high x 54.75 inches wide x 28 inches deep. Black.\"\n",
    "\n",
    "# 4:Stylish Settee 가격 \n",
    "stylish_settee_price = 180.50"
   ]
  },
  {
   "cell_type": "code",
   "execution_count": 3,
   "id": "4d65a8d2-59a7-44e3-bf5d-7424ee2b74c2",
   "metadata": {},
   "outputs": [],
   "source": [
    "# 5:Luxurious Lamp 추가\n",
    "luxurious_lamp_description = \"Luxurious Lamp. Glass and iron. 36 inches tall. Brown with cream shade.\"\n",
    "\n",
    "# 6:Luxurious Lamp 가격 \n",
    "luxurious_lamp_price = 52.15"
   ]
  },
  {
   "cell_type": "code",
   "execution_count": 4,
   "id": "1ea61281-3e62-42b6-8850-b240ab877c21",
   "metadata": {},
   "outputs": [],
   "source": [
    "# 7:tax\n",
    "sales_tax = 0.088"
   ]
  },
  {
   "cell_type": "code",
   "execution_count": 5,
   "id": "c7eb2a71-2c1e-48de-a82f-2538f61019f1",
   "metadata": {
    "tags": []
   },
   "outputs": [],
   "source": [
    "# 8:고객 지출 합계\n",
    "customer_one_total = 0\n",
    "\n",
    "# 9:고객 구매 항목\n",
    "customer_one_itemization = \"\""
   ]
  },
  {
   "cell_type": "code",
   "execution_count": 6,
   "id": "7521add4-37ba-40a4-9da1-8427e9db9b3e",
   "metadata": {
    "tags": []
   },
   "outputs": [],
   "source": [
    "# 10:lovely_loveseat 구매  \n",
    "customer_one_total += lovely_loveseat_price\n",
    "\n",
    "# 11:lovely_loveseat 설명 \n",
    "customer_one_itemization += lovely_loveseat_description"
   ]
  },
  {
   "cell_type": "code",
   "execution_count": 7,
   "id": "0ce893ee-bd5e-4ff3-bf3c-724f4d3ff5a6",
   "metadata": {
    "tags": []
   },
   "outputs": [],
   "source": [
    "# 12:Luxurious Lamp 구매\n",
    "customer_one_total += luxurious_lamp_price\n",
    "\n",
    "# 13:Luxurious Lamp 설명\n",
    "customer_one_itemization += luxurious_lamp_description"
   ]
  },
  {
   "cell_type": "code",
   "execution_count": 8,
   "id": "46d8bdf4-22a6-414b-99d2-e709b2b14466",
   "metadata": {
    "tags": []
   },
   "outputs": [],
   "source": [
    "# 14:가격 계산\n",
    "customer_one_tax = customer_one_total * sales_tax\n",
    "\n",
    "# 15:가격\n",
    "customer_one_total += customer_one_tax"
   ]
  },
  {
   "cell_type": "code",
   "execution_count": 9,
   "id": "58799a18-42bd-47dd-a991-614f22ef8db6",
   "metadata": {
    "tags": []
   },
   "outputs": [
    {
     "name": "stdout",
     "output_type": "stream",
     "text": [
      "Customer One Items:\n",
      "Lovely Loveseat. Tufted polyester blend on wood. 32 inches high x 40 inches wide x 30 inches deep. Red or white.Luxurious Lamp. Glass and iron. 36 inches tall. Brown with cream shade.\n",
      "Customer One Total:\n",
      "333.09119999999996\n"
     ]
    }
   ],
   "source": [
    "# 16: 영수증 출력\n",
    "print(\"Customer One Items:\")\n",
    "\n",
    "# 17: 항목 목록 출력\n",
    "print(customer_one_itemization)\n",
    "\n",
    "# 18: 총 가격\n",
    "print(\"Customer One Total:\")\n",
    "\n",
    "# 19: 총 가격\n",
    "print(customer_one_total)"
   ]
  }
 ],
 "metadata": {
  "kernelspec": {
   "display_name": "Python 3 (ipykernel)",
   "language": "python",
   "name": "python3"
  },
  "language_info": {
   "codemirror_mode": {
    "name": "ipython",
    "version": 3
   },
   "file_extension": ".py",
   "mimetype": "text/x-python",
   "name": "python",
   "nbconvert_exporter": "python",
   "pygments_lexer": "ipython3",
   "version": "3.11.4"
  }
 },
 "nbformat": 4,
 "nbformat_minor": 5
}
